{
 "cells": [
  {
   "cell_type": "code",
   "execution_count": 2,
   "metadata": {},
   "outputs": [],
   "source": [
    "import sqlite3\n",
    "from bs4 import BeautifulSoup\n",
    "import requests, csv"
   ]
  },
  {
   "cell_type": "code",
   "execution_count": 3,
   "metadata": {},
   "outputs": [],
   "source": [
    "#make list of Gatogeries\n",
    "\n",
    "url = \"https://books.toscrape.com/\"\n",
    "response = requests.get(url)\n",
    "soup = BeautifulSoup(response.text, 'html.parser')\n",
    "gategories = soup.find('div', attrs={'class','side_categories'}).find('ul').find('ul').find_all('a')\n",
    "\n",
    "#insert Gatogeries to database\n",
    "\n",
    "conection = sqlite3.connect('Books.db')\n",
    "for gategory in gategories:\n",
    "    Data = [gategory.get_text().strip()]\n",
    "    sql = f'INSERT INTO Gategories (GategoryName) VALUES (?)'\n",
    "    cursor = conection.execute(sql,Data)\n",
    "    conection.commit()\n",
    "conection.close()"
   ]
  },
  {
   "cell_type": "code",
   "execution_count": 4,
   "metadata": {},
   "outputs": [],
   "source": [
    "rates = {'One': 1, 'Two': 2, 'Three': 3, 'Four': 4, 'Five': 5}\n",
    "pages = ['index', 'page-2', 'page-3', 'page-4', 'page-5', 'page-6', 'page-7', 'page-8']"
   ]
  },
  {
   "cell_type": "code",
   "execution_count": 5,
   "metadata": {},
   "outputs": [],
   "source": [
    "# insert Books to database\n",
    "\n",
    "for gategory in gategories:\n",
    "\n",
    "    # number of books in the page\n",
    "\n",
    "    url_before = f\"http://books.toscrape.com/{gategory.attrs['href']}\"\n",
    "    response = requests.get(url_before)\n",
    "    soup = BeautifulSoup(response.text, 'html.parser')\n",
    "    num = (int(soup.find_all('strong')[1].get_text()) // 20) + 1\n",
    "    GategoryId = gategories.index(gategory) + 1\n",
    "\n",
    "    # loop for each page \n",
    "\n",
    "    for i in range(num):\n",
    "        url_after= url_before[:-10]\n",
    "        url = url_after + pages[i] + '.html'\n",
    "        response = requests.get(url)\n",
    "        soup = BeautifulSoup(response.text, 'html.parser')\n",
    "        all_articles = soup.find_all('article', attrs={'class': 'product_pod'})\n",
    "\n",
    "        for article in all_articles:\n",
    "            title = article.find('h3').find('a').get('title')\n",
    "            price = float(article.find('p', attrs={'class': 'price_color'}).get_text().split('£')[1])\n",
    "            rating = rates[article.find('p').get('class')[1]]\n",
    "            conection = sqlite3.connect(\"Books.db\") \n",
    "            sql = f'INSERT INTO Books (Title, Price, Rate,GategoryId) VALUES (?, ?, ?, ?)'\n",
    "            Data = [title, price,rating, GategoryId]\n",
    "            cursor = conection.execute(sql,Data)\n",
    "            conection.commit()\n",
    "        conection.close()         \n",
    "        "
   ]
  },
  {
   "cell_type": "code",
   "execution_count": null,
   "metadata": {},
   "outputs": [],
   "source": []
  }
 ],
 "metadata": {
  "interpreter": {
   "hash": "20cbbb9eb7f74368c29d1988f24870898b1d5f73911aedf523c6d37997693fdc"
  },
  "kernelspec": {
   "display_name": "Python 3.8.4 64-bit",
   "language": "python",
   "name": "python3"
  },
  "language_info": {
   "codemirror_mode": {
    "name": "ipython",
    "version": 3
   },
   "file_extension": ".py",
   "mimetype": "text/x-python",
   "name": "python",
   "nbconvert_exporter": "python",
   "pygments_lexer": "ipython3",
   "version": "3.9.12"
  },
  "orig_nbformat": 4
 },
 "nbformat": 4,
 "nbformat_minor": 2
}
